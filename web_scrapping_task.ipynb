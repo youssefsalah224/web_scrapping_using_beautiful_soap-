{
  "nbformat": 4,
  "nbformat_minor": 0,
  "metadata": {
    "colab": {
      "provenance": [],
      "authorship_tag": "ABX9TyOWJaRjg6Jxjnw+9cTngzM0",
      "include_colab_link": true
    },
    "kernelspec": {
      "name": "python3",
      "display_name": "Python 3"
    },
    "language_info": {
      "name": "python"
    }
  },
  "cells": [
    {
      "cell_type": "markdown",
      "metadata": {
        "id": "view-in-github",
        "colab_type": "text"
      },
      "source": [
        "<a href=\"https://colab.research.google.com/github/youssefsalah224/web_scrapping_using_beautiful_soap-/blob/main/web_scrapping_task.ipynb\" target=\"_parent\"><img src=\"https://colab.research.google.com/assets/colab-badge.svg\" alt=\"Open In Colab\"/></a>"
      ]
    },
    {
      "cell_type": "code",
      "execution_count": null,
      "metadata": {
        "colab": {
          "base_uri": "https://localhost:8080/"
        },
        "id": "Ypv2biFO3DT8",
        "outputId": "e9907f74-f161-4bfa-81df-ee36707c0978"
      },
      "outputs": [
        {
          "output_type": "stream",
          "name": "stdout",
          "text": [
            "Requirement already satisfied: requests in /usr/local/lib/python3.12/dist-packages (2.32.4)\n",
            "Requirement already satisfied: charset_normalizer<4,>=2 in /usr/local/lib/python3.12/dist-packages (from requests) (3.4.3)\n",
            "Requirement already satisfied: idna<4,>=2.5 in /usr/local/lib/python3.12/dist-packages (from requests) (3.10)\n",
            "Requirement already satisfied: urllib3<3,>=1.21.1 in /usr/local/lib/python3.12/dist-packages (from requests) (2.5.0)\n",
            "Requirement already satisfied: certifi>=2017.4.17 in /usr/local/lib/python3.12/dist-packages (from requests) (2025.8.3)\n"
          ]
        }
      ],
      "source": [
        "!pip install requests"
      ]
    },
    {
      "cell_type": "code",
      "source": [
        "import requests\n",
        "from bs4 import BeautifulSoup\n",
        "import json"
      ],
      "metadata": {
        "id": "TMTZpOfm3FOF"
      },
      "execution_count": null,
      "outputs": []
    },
    {
      "cell_type": "code",
      "source": [
        "url=\"https://baraasalout.github.io/test.html\"\n",
        "response = requests.get(url)\n",
        "soup = BeautifulSoup(response.text, 'html.parser')\n",
        "h1=soup.find_all(\"h1\")\n",
        "h2=soup.find_all(\"h2\")\n",
        "p=soup.find_all(\"p\")\n",
        "li=soup.find_all(\"li\")"
      ],
      "metadata": {
        "id": "WLNy3T-P3PJa"
      },
      "execution_count": null,
      "outputs": []
    },
    {
      "cell_type": "code",
      "source": [
        "h1"
      ],
      "metadata": {
        "id": "Ak-q5ViR3FQO",
        "colab": {
          "base_uri": "https://localhost:8080/"
        },
        "outputId": "45911732-b49a-4840-b86c-e3b3c98fcb75"
      },
      "execution_count": null,
      "outputs": [
        {
          "output_type": "execute_result",
          "data": {
            "text/plain": [
              "[<h1>Web Scraping Practice</h1>]"
            ]
          },
          "metadata": {},
          "execution_count": 4
        }
      ]
    },
    {
      "cell_type": "code",
      "source": [
        "h2"
      ],
      "metadata": {
        "id": "lu2pT-cz3FSU",
        "colab": {
          "base_uri": "https://localhost:8080/"
        },
        "outputId": "9c2c9cb0-000f-4b37-ad8d-1ddcdf853e8b"
      },
      "execution_count": null,
      "outputs": [
        {
          "output_type": "execute_result",
          "data": {
            "text/plain": [
              "[<h2>Available Products</h2>,\n",
              " <h2>Product Table</h2>,\n",
              " <h2>Watch This Video</h2>,\n",
              " <h2>Contact Us</h2>,\n",
              " <h2>Product Information</h2>,\n",
              " <h2>Featured Products</h2>]"
            ]
          },
          "metadata": {},
          "execution_count": 5
        }
      ]
    },
    {
      "cell_type": "code",
      "source": [
        "p"
      ],
      "metadata": {
        "id": "y5LHGo8a3FVy",
        "colab": {
          "base_uri": "https://localhost:8080/"
        },
        "outputId": "bb501a1d-ba54-42a1-836d-48570fb4fe71"
      },
      "execution_count": null,
      "outputs": [
        {
          "output_type": "execute_result",
          "data": {
            "text/plain": [
              "[<p>Welcome to the web scraping task! Use your skills to extract the required data from this page.</p>,\n",
              " <p><strong>Sharp Objects</strong></p>,\n",
              " <p style=\"color: green;\">£47.82</p>,\n",
              " <p style=\"color: green;\">✔ In stock</p>,\n",
              " <p><strong>In a Dark, Dark Wood</strong></p>,\n",
              " <p style=\"color: green;\">£19.63</p>,\n",
              " <p style=\"color: green;\">✔ In stock</p>,\n",
              " <p><strong>The Past Never Ends</strong></p>,\n",
              " <p style=\"color: green;\">£56.50</p>,\n",
              " <p style=\"color: green;\">✔ In stock</p>,\n",
              " <p><strong>A Murder in Time</strong></p>,\n",
              " <p style=\"color: green;\">£16.64</p>,\n",
              " <p style=\"color: green;\"> Out stock</p>,\n",
              " <p class=\"name\">Wireless Headphones</p>,\n",
              " <p class=\"price\" style=\"display: none;\">$49.99</p>,\n",
              " <p class=\"colors\">Available colors: Black, White, Blue</p>,\n",
              " <p class=\"name\">Smart Speaker</p>,\n",
              " <p class=\"price\" style=\"display: none;\">$89.99</p>,\n",
              " <p class=\"colors\">Available colors: Grey, Black</p>,\n",
              " <p class=\"name\">Smart Watch</p>,\n",
              " <p class=\"price\" style=\"display: none;\">$149.99</p>,\n",
              " <p class=\"colors\">Available colors: Black, Silver, Gold</p>,\n",
              " <p>© 2024 Web Scraping Practice. All Rights Reserved.</p>]"
            ]
          },
          "metadata": {},
          "execution_count": 6
        }
      ]
    },
    {
      "cell_type": "code",
      "source": [
        "li"
      ],
      "metadata": {
        "colab": {
          "base_uri": "https://localhost:8080/"
        },
        "id": "H6I_RW2Q8GS3",
        "outputId": "37215304-f2af-4d11-f09d-5ada9109156f"
      },
      "execution_count": null,
      "outputs": [
        {
          "output_type": "execute_result",
          "data": {
            "text/plain": [
              "[<li class=\"highlight\">Laptop</li>,\n",
              " <li>Smartphone</li>,\n",
              " <li>Tablet</li>,\n",
              " <li>Smartwatch</li>]"
            ]
          },
          "metadata": {},
          "execution_count": 7
        }
      ]
    },
    {
      "cell_type": "code",
      "source": [
        "h1[0].get_text()"
      ],
      "metadata": {
        "colab": {
          "base_uri": "https://localhost:8080/",
          "height": 35
        },
        "id": "Ys_KFQ1E3FYC",
        "outputId": "d18aa033-ed22-43bd-c874-b3d8708475e1"
      },
      "execution_count": null,
      "outputs": [
        {
          "output_type": "execute_result",
          "data": {
            "text/plain": [
              "'Web Scraping Practice'"
            ],
            "application/vnd.google.colaboratory.intrinsic+json": {
              "type": "string"
            }
          },
          "metadata": {},
          "execution_count": 8
        }
      ]
    },
    {
      "cell_type": "code",
      "source": [
        "import csv\n",
        "h1_tags = [tag.get_text(strip=True) for tag in soup.find_all(\"h1\")]\n",
        "h2_tags = [tag.get_text(strip=True) for tag in soup.find_all(\"h2\")]\n",
        "p_tags = [tag.get_text(strip=True) for tag in soup.find_all(\"p\")]\n",
        "li_tags = [tag.get_text(strip=True) for tag in soup.find_all(\"li\")]\n",
        "\n",
        "with open(\"scraped_data.csv\", mode=\"w\", newline=\"\", encoding=\"utf-8\") as file:\n",
        "    writer = csv.writer(file)\n",
        "\n",
        "    writer.writerow([\"H1\", \"H2\", \"P\", \"LI\"])\n",
        "\n",
        "    # Find the max length among all lists so we can align rows\n",
        "    max_length = max(len(h1_tags), len(h2_tags), len(p_tags), len(li_tags))\n",
        "\n",
        "    for i in range(max_length):\n",
        "        row = [\n",
        "            h1_tags[i] if i < len(h1_tags) else \"\",\n",
        "            h2_tags[i] if i < len(h2_tags) else \"\",\n",
        "            p_tags[i] if i < len(p_tags) else \"\",\n",
        "            li_tags[i] if i < len(li_tags) else \"\"\n",
        "        ]\n",
        "        writer.writerow(row)\n",
        "\n",
        "print(\"Data saved to scraped_data.csv\")"
      ],
      "metadata": {
        "id": "m32EjKoz4SYJ",
        "colab": {
          "base_uri": "https://localhost:8080/"
        },
        "outputId": "3e6f2f27-169a-45b5-b87c-3b93bd24b3c5"
      },
      "execution_count": null,
      "outputs": [
        {
          "output_type": "stream",
          "name": "stdout",
          "text": [
            "Data saved to scraped_data.csv\n"
          ]
        }
      ]
    },
    {
      "cell_type": "code",
      "source": [
        "table_data = []\n",
        "table = soup.find('table')\n",
        "if table:\n",
        "    rows = table.find_all('tr')[1:]\n",
        "    for row in rows:\n",
        "        cols = row.find_all('td')\n",
        "        if len(cols) >= 3:\n",
        "            product = cols[0].text.strip()\n",
        "            price = cols[1].text.strip()\n",
        "            stock = cols[2].text.strip()\n",
        "            table_data.append([product, price, stock])\n",
        "\n",
        "with open('Extract_Table_Data.csv', 'w', newline='') as csvfile:\n",
        "    writer = csv.writer(csvfile)\n",
        "    writer.writerow(['Product Name', 'Price', 'Stock Status'])\n",
        "    writer.writerows(table_data)\n",
        "\n",
        "product_cards = []\n",
        "cards = soup.find_all('div', class_='card')\n",
        "for card in cards:\n",
        "    title = card.find('h5').text.strip() if card.find('h5') else ''\n",
        "    price = card.find('h6').text.strip() if card.find('h6') else ''\n",
        "    stock = card.find('p', class_='stock').text.strip() if card.find('p', class_='stock') else ''\n",
        "    button = card.find('button').text.strip() if card.find('button') else ''\n",
        "\n",
        "    product_cards.append({\n",
        "        'Book Title': title,\n",
        "        'Price': price,\n",
        "        'Stock Availability': stock,\n",
        "        'Button text': button\n",
        "    })\n",
        "\n",
        "\n",
        "with open('Product_Information.json', 'w') as jsonfile:\n",
        "    json.dump(product_cards, jsonfile, indent=4)\n"
      ],
      "metadata": {
        "id": "fHyAJRAxfz9M"
      },
      "execution_count": null,
      "outputs": []
    },
    {
      "cell_type": "code",
      "source": [
        "form_details = []\n",
        "forms = soup.find_all(\"form\")\n",
        "\n",
        "for form in forms:\n",
        "    inputs = form.find_all(\"input\")\n",
        "    for i in inputs:\n",
        "        field = {\n",
        "            \"name\": i.get(\"name\"),\n",
        "            \"type\": i.get(\"type\"),\n",
        "            \"default\": i.get(\"value\") if i.get(\"value\") else None\n",
        "        }\n",
        "        form_details.append(field)\n",
        "\n",
        "with open(\"form_details.json\", \"w\") as f:\n",
        "    json.dump(form_details, f, indent=4)\n"
      ],
      "metadata": {
        "id": "FrNk-4XxJ5T3"
      },
      "execution_count": null,
      "outputs": []
    },
    {
      "cell_type": "code",
      "source": [
        "\n",
        "iframe_links = []\n",
        "iframes = soup.find_all(\"iframe\")\n",
        "for iframe in iframes:\n",
        "    src = iframe.get(\"src\")\n",
        "    if src:\n",
        "        iframe_links.append(src)\n",
        "\n",
        "with open(\"iframe_links.json\", \"w\") as f:\n",
        "    json.dump(iframe_links, f, indent=4)\n"
      ],
      "metadata": {
        "id": "cecfgYMPJ9yU"
      },
      "execution_count": null,
      "outputs": []
    },
    {
      "cell_type": "code",
      "source": [
        "products = []\n",
        "featured_products = soup.find_all(\"div\", class_=\"product\")\n",
        "\n",
        "for product in featured_products:\n",
        "    product_id = product.get(\"data-id\")\n",
        "    name = product.find(\"span\", class_=\"name\").text.strip()\n",
        "    price = product.find(\"span\", class_=\"price\", style=\"display: none;\").text.strip()\n",
        "    colors = product.find(\"span\", class_=\"colors\").text.strip()\n",
        "\n",
        "    product_data = {\n",
        "        \"id\": product_id,\n",
        "        \"name\": name,\n",
        "        \"price\": price,\n",
        "        \"colors\": colors\n",
        "    }\n",
        "    products.append(product_data)\n",
        "\n",
        "with open(\"featured_products.json\", \"w\") as f:\n",
        "    json.dump(products, f, indent=4)"
      ],
      "metadata": {
        "id": "krwNP71EJ9rr"
      },
      "execution_count": null,
      "outputs": []
    }
  ]
}